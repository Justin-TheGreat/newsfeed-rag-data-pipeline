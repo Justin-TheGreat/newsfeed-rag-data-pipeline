{
 "cells": [
  {
   "cell_type": "code",
   "execution_count": 1,
   "id": "6f1ef556",
   "metadata": {},
   "outputs": [
    {
     "name": "stderr",
     "output_type": "stream",
     "text": [
      "2025-08-17 13:10:17,390 - INFO - Fetching news for date: 2025-08-13\n",
      "2025-08-17 13:10:17,391 - INFO - Fetching from BBC...\n",
      "2025-08-17 13:10:18,058 - INFO - Fetching from Reuters...\n",
      "2025-08-17 13:10:18,566 - INFO - Fetching from NBC News...\n",
      "2025-08-17 13:10:19,259 - INFO - Fetching from ABC News...\n",
      "2025-08-17 13:10:19,879 - INFO - Fetching from CBS News...\n",
      "2025-08-17 13:10:20,500 - INFO - Fetching from PBS News...\n",
      "2025-08-17 13:10:21,657 - INFO - Fetching from CNN...\n",
      "2025-08-17 13:10:22,445 - INFO - Fetching from Fox News...\n",
      "2025-08-17 13:10:23,406 - INFO - Fetching from The New York Times...\n",
      "2025-08-17 13:10:24,067 - INFO - Fetching from The Washington Post...\n",
      "2025-08-17 13:10:33,843 - INFO - Fetched 7 news items for 2025-08-13\n",
      "2025-08-17 13:10:33,844 - INFO - Returning top 7 news items for 2025-08-13\n"
     ]
    },
    {
     "name": "stdout",
     "output_type": "stream",
     "text": [
      "\n",
      "================================================================================\n",
      "TOP 7 NEWS ITEMS\n",
      "================================================================================\n",
      "\n",
      "1. New species of \"deceptively cute\" ancient whale found on beach\n",
      "   Source: CBS News\n",
      "   Date: 2025-08-13 07:32:44\n",
      "   Description: Scientists have discovered a razor-toothed whale that prowled the seas 26 million years ago, saying the species was \"deceptively cute\" but a dangerous...\n",
      "   Link: https://www.cbsnews.com/news/new-species-ancient-whale-deceptively-cute/\n",
      "--------------------------------------------------------------------------------\n",
      "2. Zelenskyy makes last-ditch push for trilateral talks ahead of Trump-Putin summit\n",
      "   Source: NBC News\n",
      "   Date: 2025-08-13 10:56:11\n",
      "   Description: European leaders including German Chancellor Friedrich Merz and Ukraine’s Volodymyr Zelenskyy will hold a video call with President Donald Trump.\n",
      "   Link: https://www.nbcnews.com/world/ukraine/trump-putin-alaska-europe-ukraine-virtual-meeting-rcna224680\n",
      "   Image: https://media-cldnry.s-nbcnews.com/image/upload/t_fit_1500w/rockcms/2025-06/250604-donald-trump-vladimir-putin-vl-118p-86c7fe.jpg\n",
      "--------------------------------------------------------------------------------\n",
      "3. Myanmar junta is detaining and torturing children as young as 2, U.N. report says\n",
      "   Source: NBC News\n",
      "   Date: 2025-08-13 10:59:56\n",
      "   Description: U.N.-backed investigators say they have found significant evidence of “systematic torture” at Myanmar detention centers, where the military government...\n",
      "   Link: https://www.nbcnews.com/world/asia/myanmar-junta-detaining-torturing-children-young-2-report-rcna224677\n",
      "   Image: https://media-cldnry.s-nbcnews.com/image/upload/t_fit_1500w/rockcms/2025-08/250813-Myanmar-3-rs-182ba8.jpg\n",
      "--------------------------------------------------------------------------------\n",
      "4. Tea, cakes and funny signs greet Vance in quintessentially British countryside\n",
      "   Source: NBC News\n",
      "   Date: 2025-08-13 14:00:06\n",
      "   Description: Vice President JD Vance was greeted with protesters  holding funny signs as he vacationed in the Cotswolds in England's countryside.\n",
      "   Link: https://www.nbcnews.com/world/united-kingdom/jd-vance-protest-england-the-cotswolds-jeremy-clarkson-david-cameron-rcna224681\n",
      "   Image: https://media-cldnry.s-nbcnews.com/image/upload/t_fit_1500w/rockcms/2025-08/250813-vance-rs-7e39cd.jpg\n",
      "--------------------------------------------------------------------------------\n",
      "5. Far-right populists top polls in Germany, France and Britain for the first time\n",
      "   Source: NBC News\n",
      "   Date: 2025-08-13 15:33:19\n",
      "   Description: Alternative for Germany has joined France's National Rally and Reform U.K. in becoming the most popular party in its country, according to polls.\n",
      "   Link: https://www.nbcnews.com/world/europe/far-right-populists-top-polls-germany-france-britain-first-time-rcna224706\n",
      "   Image: https://media-cldnry.s-nbcnews.com/image/upload/t_fit_1500w/rockcms/2025-08/250813-germany-far-right-se-1043a-f10fae.jpg\n",
      "--------------------------------------------------------------------------------\n",
      "6. Why Arab rulers aren't more vocal about Gaza as global outcry grows\n",
      "   Source: NBC News\n",
      "   Date: 2025-08-13 19:16:12\n",
      "   Description: Arab governments that have been advocates for the Palestinian cause are now facing criticism for their response to the suffering in Gaza caused by Isr...\n",
      "   Link: https://www.nbcnews.com/world/middle-east/israel-gaza-arab-rulers-nations-criticism-palestinians-starvation-rcna224586\n",
      "   Image: https://media-cldnry.s-nbcnews.com/image/upload/t_fit_1500w/rockcms/2025-08/250814-gaza-3-rs-92a718.jpg\n",
      "--------------------------------------------------------------------------------\n",
      "7. Trump tells Zelenskyy and allies he won't discuss territory divisions with Putin\n",
      "   Source: NBC News\n",
      "   Date: 2025-08-13 22:45:17\n",
      "   Description: President Donald Trump does not intend to discuss territory divisions and will focus on a Ukraine ceasefire when he meets with Russian President Vladi...\n",
      "   Link: https://www.nbcnews.com/politics/donald-trump/trump-told-zelenskyy-allies-wont-discuss-territory-divisions-putin-wee-rcna224894\n",
      "   Image: https://media-cldnry.s-nbcnews.com/image/upload/t_fit_1500w/rockcms/2025-06/250618-trump-and-putin-rs-a3e21e.jpg\n",
      "--------------------------------------------------------------------------------\n"
     ]
    }
   ],
   "source": [
    "from news_fetcher import NewsFetcher, print_news_summary\n",
    "from datetime import datetime, timedelta\n",
    "fetcher = NewsFetcher()\n",
    "\n",
    "custom_date = \"2025-08-13\"\n",
    "custom_news = fetcher.get_top_news(target_date=custom_date, limit=10)\n",
    "print_news_summary(custom_news)\n"
   ]
  },
  {
   "cell_type": "code",
   "execution_count": 2,
   "id": "b207b069",
   "metadata": {},
   "outputs": [
    {
     "name": "stdout",
     "output_type": "stream",
     "text": [
      "New species of \"deceptively cute\" ancient whale found on beach\n",
      "2025-08-13 07:32:44\n",
      "Scientists have discovered a razor-toothed whale that prowled the seas 26 million years ago, saying the species was \"deceptively cute\" but a dangerous predator.\n",
      "https://www.cbsnews.com/news/new-species-ancient-whale-deceptively-cute/\n",
      "************************************************\n",
      "Zelenskyy makes last-ditch push for trilateral talks ahead of Trump-Putin summit\n",
      "2025-08-13 10:56:11\n",
      "European leaders including German Chancellor Friedrich Merz and Ukraine’s Volodymyr Zelenskyy will hold a video call with President Donald Trump.\n",
      "https://www.nbcnews.com/world/ukraine/trump-putin-alaska-europe-ukraine-virtual-meeting-rcna224680\n",
      "************************************************\n",
      "Myanmar junta is detaining and torturing children as young as 2, U.N. report says\n",
      "2025-08-13 10:59:56\n",
      "U.N.-backed investigators say they have found significant evidence of “systematic torture” at Myanmar detention centers, where the military government is holding children as young as 2 years old as proxies for their parents\n",
      "https://www.nbcnews.com/world/asia/myanmar-junta-detaining-torturing-children-young-2-report-rcna224677\n",
      "************************************************\n",
      "Tea, cakes and funny signs greet Vance in quintessentially British countryside\n",
      "2025-08-13 14:00:06\n",
      "Vice President JD Vance was greeted with protesters  holding funny signs as he vacationed in the Cotswolds in England's countryside.\n",
      "https://www.nbcnews.com/world/united-kingdom/jd-vance-protest-england-the-cotswolds-jeremy-clarkson-david-cameron-rcna224681\n",
      "************************************************\n",
      "Far-right populists top polls in Germany, France and Britain for the first time\n",
      "2025-08-13 15:33:19\n",
      "Alternative for Germany has joined France's National Rally and Reform U.K. in becoming the most popular party in its country, according to polls.\n",
      "https://www.nbcnews.com/world/europe/far-right-populists-top-polls-germany-france-britain-first-time-rcna224706\n",
      "************************************************\n",
      "Why Arab rulers aren't more vocal about Gaza as global outcry grows\n",
      "2025-08-13 19:16:12\n",
      "Arab governments that have been advocates for the Palestinian cause are now facing criticism for their response to the suffering in Gaza caused by Israel's war.\n",
      "https://www.nbcnews.com/world/middle-east/israel-gaza-arab-rulers-nations-criticism-palestinians-starvation-rcna224586\n",
      "************************************************\n",
      "Trump tells Zelenskyy and allies he won't discuss territory divisions with Putin\n",
      "2025-08-13 22:45:17\n",
      "President Donald Trump does not intend to discuss territory divisions and will focus on a Ukraine ceasefire when he meets with Russian President Vladimir Putin, he told European leaders.\n",
      "https://www.nbcnews.com/politics/donald-trump/trump-told-zelenskyy-allies-wont-discuss-territory-divisions-putin-wee-rcna224894\n",
      "************************************************\n"
     ]
    }
   ],
   "source": [
    "for news in custom_news:\n",
    "    print(news.title)\n",
    "    print(news.published_date)\n",
    "    print(news.description)\n",
    "    print(news.link)\n",
    "    print(\"************************************************\")"
   ]
  }
 ],
 "metadata": {
  "kernelspec": {
   "display_name": "algotrade",
   "language": "python",
   "name": "python3"
  },
  "language_info": {
   "codemirror_mode": {
    "name": "ipython",
    "version": 3
   },
   "file_extension": ".py",
   "mimetype": "text/x-python",
   "name": "python",
   "nbconvert_exporter": "python",
   "pygments_lexer": "ipython3",
   "version": "3.10.15"
  }
 },
 "nbformat": 4,
 "nbformat_minor": 5
}
